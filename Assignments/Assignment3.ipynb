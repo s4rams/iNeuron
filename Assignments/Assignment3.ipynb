{
 "cells": [
  {
   "cell_type": "markdown",
   "metadata": {},
   "source": [
    "# 1.1 Question 1"
   ]
  },
  {
   "cell_type": "markdown",
   "metadata": {},
   "source": [
    "***************************************************************************\n",
    "\n",
    "    Write a Python Program to implement your own myreduce() function which works exactly\n",
    "    like Python's built-in function reduce()\n",
    "\n",
    "****************************************************************************"
   ]
  },
  {
   "cell_type": "code",
   "execution_count": 73,
   "metadata": {},
   "outputs": [
    {
     "name": "stdout",
     "output_type": "stream",
     "text": [
      "Addition on Integers list\n",
      "Function execution:- \t 15\n",
      "Lamdba execution:- \t 15\n",
      "Lambda in Variable:- \t 15\n",
      "Built in  Reduce:- \t 15\n",
      "\n",
      "Addition on String  list\n",
      "Function execution:- \t Sachin Ramesh Tendulkar\n",
      "Lamdba execution:- \t Sachin Ramesh Tendulkar\n",
      "Lambda in Variable:- \t Sachin Ramesh Tendulkar\n",
      "Built in  Reduce:- \t Sachin Ramesh Tendulkar\n"
     ]
    }
   ],
   "source": [
    "#!/usr/bin/python3\n",
    "\n",
    "from functools import reduce\n",
    "\n",
    "def addition(a,b):\n",
    "        return a+b\n",
    "def myreduce(func, sequence):\n",
    "    total=sequence[0]\n",
    "    for  i in sequence[1:]:\n",
    "        total = func(total,i)\n",
    "    return total\n",
    "additions = lambda x,y:x+y\n",
    "   \n",
    "l = [1,2,3,4,5]\n",
    "print(\"Addition on Integers list\")\n",
    "print(\"Function execution:- \\t\",myreduce(addition,l))\n",
    "print(\"Lamdba execution:- \\t\", myreduce(lambda x,y:x+y, l))\n",
    "print(\"Lambda in Variable:- \\t\", myreduce(additions, l))\n",
    "print(\"Built in  Reduce:- \\t\", reduce(addition,l))\n",
    "print()\n",
    "\n",
    "l = [\"Sachin\", \" Ramesh\", \" Tendulkar\"]\n",
    "print(\"Addition on String  list\")\n",
    "print(\"Function execution:- \\t\",myreduce(addition,l))\n",
    "print(\"Lamdba execution:- \\t\", myreduce(lambda x,y:x+y, l))\n",
    "print(\"Lambda in Variable:- \\t\", myreduce(additions, l))\n",
    "print(\"Built in  Reduce:- \\t\", reduce(addition,l))\n",
    "\n"
   ]
  },
  {
   "cell_type": "markdown",
   "metadata": {},
   "source": [
    "# 1.2 Question 2"
   ]
  },
  {
   "cell_type": "markdown",
   "metadata": {},
   "source": [
    "******************************************************************************\n",
    "    Write a Python program to implement your own myfilter() function which works exactly\n",
    "    like Python's built-in function filter()\n",
    "******************************************************************************"
   ]
  },
  {
   "cell_type": "code",
   "execution_count": 72,
   "metadata": {},
   "outputs": [
    {
     "name": "stdout",
     "output_type": "stream",
     "text": [
      "[2, 4, 6, 8]\n"
     ]
    }
   ],
   "source": [
    "#!usr/bin/python3\n",
    "\n",
    "def even_check(num):\n",
    "    if num%2 == 0:\n",
    "        return True\n",
    "    \n",
    "def myfilter(func, lst):\n",
    "    filteredList = []\n",
    "    for i in lst:\n",
    "        if func(i):\n",
    "            filteredList.append(i)\n",
    "    return filteredList\n",
    "\n",
    "lst =[1,2,3,4,5,6,7,8, 9]\n",
    "print(myfilter(even_check,lst))\n"
   ]
  },
  {
   "cell_type": "markdown",
   "metadata": {},
   "source": [
    "# Question 2"
   ]
  },
  {
   "cell_type": "raw",
   "metadata": {},
   "source": [
    "***************************************************************************************\n",
    "    Implement List comprehensions to produce the following lists.\n",
    "    Write List comprehensions to produce the following Lists\n",
    "    \n",
    "    ['x', 'xx', 'xxx', 'xxxx', 'y', 'yy', 'yyy', 'yyyy', 'z', 'zz', 'zzz', 'zzzz']\n",
    "    ['x', 'y', 'z', 'xx', 'yy', 'zz', 'xxx', 'yyy', 'zzz', 'xxxx', 'yyyy', 'zzzz']\n",
    "    [[2], [3], [4], [3], [4], [5], [4], [5], [6]] [[2, 3, 4, 5], [3, 4, 5, 6], [4, 5, 6, 7], [5, 6, 7, 8]]\n",
    "    [(1, 1), (2, 1), (3, 1), (1, 2), (2, 2), (3, 2), (1, 3), (2, 3), (3, 3)]\n",
    "*****************************************************************************************\n"
   ]
  },
  {
   "cell_type": "code",
   "execution_count": 66,
   "metadata": {},
   "outputs": [
    {
     "name": "stdout",
     "output_type": "stream",
     "text": [
      "['x', 'xx', 'xxx', 'xxxx', 'y', 'yy', 'yyy', 'yyyy', 'z', 'zz', 'zzz', 'zzzz']\n",
      "['x', 'y', 'z', 'xx', 'yy', 'zz', 'xxx', 'yyy', 'zzz', 'xxxx', 'yyyy', 'zzzz']\n",
      "[[2], [3], [4], [3], [4], [5], [4], [5], [6]] [[2, 3, 4, 5], [3, 4, 5, 6], [4, 5, 6, 7], [5, 6, 7, 8]]\n",
      "[(1, 1), (2, 1), (3, 1), (1, 2), (2, 2), (3, 2), (1, 3), (2, 3), (3, 3)]\n"
     ]
    }
   ],
   "source": [
    "#!/usr/bin/python3\n",
    "\n",
    "print([i*j for i in 'xyz' for j in range(1,5)])\n",
    "print([i*j for i in range(1,5) for j in 'xyz'])\n",
    "print([[i+j] for i in range(1,4) for j in range(1,4)], [[i+j for i in range(1,5)] for j in range(1,5)])\n",
    "print([(j,i) for i in range(1,4) for j in range(1,4)])"
   ]
  }
 ],
 "metadata": {
  "kernelspec": {
   "display_name": "Python 3",
   "language": "python",
   "name": "python3"
  },
  "language_info": {
   "codemirror_mode": {
    "name": "ipython",
    "version": 3
   },
   "file_extension": ".py",
   "mimetype": "text/x-python",
   "name": "python",
   "nbconvert_exporter": "python",
   "pygments_lexer": "ipython3",
   "version": "3.7.6"
  }
 },
 "nbformat": 4,
 "nbformat_minor": 4
}
