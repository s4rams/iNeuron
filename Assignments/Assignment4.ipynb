{
 "cells": [
  {
   "cell_type": "markdown",
   "metadata": {},
   "source": [
    "#  Question 1.1"
   ]
  },
  {
   "cell_type": "raw",
   "metadata": {},
   "source": [
    "**************************************************************************************\n",
    "    1.1 Write a Python Program(with class concepts) to find the area of the triangle using the below\n",
    "    formula.\n",
    "    area = (s*(s-a)*(s-b)*(s-c)) ** 0.5\n",
    "    Function to take the length of the sides of triangle from user should be defined in the parent\n",
    "    class and function to calculate the area should be defined in subclass.\n",
    "**************************************************************************************"
   ]
  },
  {
   "cell_type": "code",
   "execution_count": 28,
   "metadata": {},
   "outputs": [
    {
     "name": "stdout",
     "output_type": "stream",
     "text": [
      "Enter a value for side A: 5\n",
      "Enter a value for side B: 5\n",
      "Enter a value for side C: 5\n"
     ]
    },
    {
     "data": {
      "text/plain": [
       "74.11588266019639"
      ]
     },
     "execution_count": 28,
     "metadata": {},
     "output_type": "execute_result"
    }
   ],
   "source": [
    "#!/usr/bin/python3\n",
    "\n",
    "class Shape:\n",
    "    def __init__(this,a,b,c):\n",
    "        this._a = a\n",
    "        this._b = b\n",
    "        this._c = c\n",
    "\n",
    "class Triangle(Shape):\n",
    "    def __init__(this, *args):\n",
    "        super(Triangle, this).__init__(*args)\n",
    "        this._s = 0.0\n",
    "    def area(this):\n",
    "        this._s = (this._a + this._b + this._c) / 2\n",
    "        return this._s * (this._s - this._a) * (this._s - this._b) * (this._s - this._c) ** 0.5\n",
    "\n",
    "a = int(input(\"Enter a value for side A: \" ))\n",
    "b = int(input(\"Enter a value for side B: \"))\n",
    "c = int(input(\"Enter a value for side C: \"))\n",
    "obj = Triangle(a,b,c)\n",
    "obj.area()"
   ]
  },
  {
   "cell_type": "markdown",
   "metadata": {},
   "source": [
    "# Question 1.2"
   ]
  },
  {
   "cell_type": "raw",
   "metadata": {},
   "source": [
    "*****************************************************************************************\n",
    "    1.2 Write a function filter_long_words() that takes a list of words and an integer n and returns\n",
    "    the list of words that are longer than n.\n",
    "******************************************************************************************"
   ]
  },
  {
   "cell_type": "code",
   "execution_count": 33,
   "metadata": {},
   "outputs": [
    {
     "data": {
      "text/plain": [
       "['Apple', 'Ball', 'Elephant']"
      ]
     },
     "execution_count": 33,
     "metadata": {},
     "output_type": "execute_result"
    }
   ],
   "source": [
    "#!/usr/bin/python3\n",
    "\n",
    "def filter_long_words(words, n):\n",
    "    longerWords = []\n",
    "    for word in words:\n",
    "        if len(word) > n:\n",
    "            longerWords.append(word)\n",
    "    return longerWords\n",
    "\n",
    "lst = ['Apple', 'Ball', 'Cat', 'Dog', 'Elephant']\n",
    "\n",
    "filter_long_words(lst,3) "
   ]
  },
  {
   "cell_type": "markdown",
   "metadata": {},
   "source": [
    "# Question 2.1"
   ]
  },
  {
   "cell_type": "raw",
   "metadata": {},
   "source": [
    "****************************************************************************************************\n",
    "    2.1 Write a Python program using function concept that maps list of words into a list of integers\n",
    "    representing the lengths of the corresponding words.\n",
    "    Hint: If a list [ ab,cde,erty] is passed on to the python function output should come as [2,3,4]\n",
    "    Here 2,3 and 4 are the lengths of the words in the list.\n",
    "****************************************************************************************************"
   ]
  },
  {
   "cell_type": "code",
   "execution_count": 35,
   "metadata": {},
   "outputs": [
    {
     "data": {
      "text/plain": [
       "[2, 3, 4]"
      ]
     },
     "execution_count": 35,
     "metadata": {},
     "output_type": "execute_result"
    }
   ],
   "source": [
    "#!/usr/bin/python3\n",
    "\n",
    "def word_length(word):\n",
    "    return len(word);\n",
    "lst = ['ab', 'cde', 'erty']\n",
    "list(map(word_length, lst))"
   ]
  },
  {
   "cell_type": "markdown",
   "metadata": {},
   "source": [
    "# Question 2.2"
   ]
  },
  {
   "cell_type": "raw",
   "metadata": {},
   "source": [
    "*********************************************************************************************************\n",
    "    2.2 Write a Python function which takes a character (i.e. a string of length 1) and returns True if\n",
    "    it is a vowel, False otherwise.\n",
    "*********************************************************************************************************"
   ]
  },
  {
   "cell_type": "code",
   "execution_count": 54,
   "metadata": {},
   "outputs": [
    {
     "name": "stdout",
     "output_type": "stream",
     "text": [
      "Is 'b' vowel:=  False\n",
      "Is 'a' vowel:=  True\n",
      "Is 'i' vowel:=  True\n"
     ]
    }
   ],
   "source": [
    "#!/usr/bin/python3\n",
    "\n",
    "def is_vowel(c):\n",
    "    vowels = ['a','e','i','o','u']\n",
    "    if c in vowels:\n",
    "        return True\n",
    "    return False\n",
    "\n",
    "print(\"Is 'b' vowel:= \",is_vowel('b'))\n",
    "print(\"Is 'a' vowel:= \",is_vowel('a'))\n",
    "print(\"Is 'i' vowel:= \",is_vowel('i'))"
   ]
  }
 ],
 "metadata": {
  "kernelspec": {
   "display_name": "Python 3",
   "language": "python",
   "name": "python3"
  },
  "language_info": {
   "codemirror_mode": {
    "name": "ipython",
    "version": 3
   },
   "file_extension": ".py",
   "mimetype": "text/x-python",
   "name": "python",
   "nbconvert_exporter": "python",
   "pygments_lexer": "ipython3",
   "version": "3.7.6"
  }
 },
 "nbformat": 4,
 "nbformat_minor": 4
}
