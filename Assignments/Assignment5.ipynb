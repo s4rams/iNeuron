{
 "cells": [
  {
   "cell_type": "markdown",
   "metadata": {},
   "source": [
    "# Question 1"
   ]
  },
  {
   "cell_type": "raw",
   "metadata": {},
   "source": [
    "**********************************************************************************\n",
    "    Write a function to compute 5/0 and use try/except to catch the exceptions.\n",
    "**********************************************************************************"
   ]
  },
  {
   "cell_type": "code",
   "execution_count": 41,
   "metadata": {},
   "outputs": [
    {
     "name": "stdout",
     "output_type": "stream",
     "text": [
      "Enter Integer Value: 5\n",
      "Enter  numberic non negative value:- 0\n",
      "Compute Ran into Exception as :  division by zero\n"
     ]
    }
   ],
   "source": [
    "#!/usr/bin/python3\n",
    "\n",
    "def compute():\n",
    "    value=float()\n",
    "    try:\n",
    "        num = int(input(\"Enter Integer Value: \"))\n",
    "        divisible = int(input(\"Enter  numberic non negative value:- \"))\n",
    "        value = num/divisible\n",
    "        print(\"Value:-\", value)\n",
    "    except Exception as excp:\n",
    "        print(\"Compute Ran into Exception as : \", excp)\n",
    "    finally:pass\n",
    "\n",
    "compute()\n",
    "        "
   ]
  },
  {
   "cell_type": "markdown",
   "metadata": {},
   "source": [
    "# Question 2"
   ]
  },
  {
   "cell_type": "raw",
   "metadata": {},
   "source": [
    "*********************************************************************************************\n",
    "    2. Implement a Python program to generate all sentences where subject is in\n",
    "    [\"Americans\", \"Indians\"] and verb is in [\"Play\", \"watch\"] and the object is in\n",
    "    [\"Baseball\",\"cricket\"].\n",
    "    \n",
    "    Hint: Subject,Verb and Object should be declared in the program as shown below.\n",
    "\n",
    "        subjects=[\"Americans \",\"Indians\"]\n",
    "        verbs=[\"play\",\"watch\"]\n",
    "        objects=[\"Baseball\",\"Cricket\"]\n",
    "\n",
    "    Output should come as below:\n",
    "        Americans play Baseball.\n",
    "        Americans play Cricket.\n",
    "        Americans watch Baseball.\n",
    "        Americans watch Cricket.\n",
    "        Indians play Baseball.\n",
    "        Indians play Cricket.\n",
    "        Indians watch Baseball.\n",
    "        Indians watch Cricket.\n",
    "**********************************************************************************************"
   ]
  },
  {
   "cell_type": "code",
   "execution_count": 40,
   "metadata": {},
   "outputs": [
    {
     "name": "stdout",
     "output_type": "stream",
     "text": [
      "Americans play Baseball\n",
      "Americans play Cricket\n",
      "Americans watch Baseball\n",
      "Americans watch Cricket\n",
      "Indians play Baseball\n",
      "Indians play Cricket\n",
      "Indians watch Baseball\n",
      "Indians watch Cricket\n"
     ]
    }
   ],
   "source": [
    "#/usr/bin/python\n",
    "\n",
    "def sentence_gen(subject, verb, objects):\n",
    "    return (i +' '+ j + ' ' + k for i in subject for j in verb for k in objects )\n",
    "\n",
    "subjects=[\"Americans\",\"Indians\"]\n",
    "verbs=[\"play\",\"watch\"]\n",
    "objects=[\"Baseball\",\"Cricket\"]\n",
    "\n",
    "itr = sentence_gen(subjects, verbs, objects)\n",
    "try:\n",
    "    while True:\n",
    "        print(next(itr))\n",
    "except:pass"
   ]
  }
 ],
 "metadata": {
  "kernelspec": {
   "display_name": "Python 3",
   "language": "python",
   "name": "python3"
  },
  "language_info": {
   "codemirror_mode": {
    "name": "ipython",
    "version": 3
   },
   "file_extension": ".py",
   "mimetype": "text/x-python",
   "name": "python",
   "nbconvert_exporter": "python",
   "pygments_lexer": "ipython3",
   "version": "3.7.6"
  }
 },
 "nbformat": 4,
 "nbformat_minor": 4
}
